{
 "cells": [
  {
   "cell_type": "code",
   "execution_count": 4,
   "metadata": {},
   "outputs": [
    {
     "name": "stdout",
     "output_type": "stream",
     "text": [
      "c:\\Users\\Bernd\\Documents\\GitHub\\apr24_bds_int_plant_recognition\\notebooks\n"
     ]
    }
   ],
   "source": [
    "import cv2 #import OpenCV\n",
    "import matplotlib.pyplot as plt\n",
    "import numpy as np\n",
    "import os\n",
    "import pandas as pd\n",
    "\n",
    "%matplotlib inline\n",
    "\n",
    "from tensorflow.keras.layers import Input, Dense\n",
    "from tensorflow.keras.models import Model\n",
    "from tensorflow.keras.layers import Dropout \n",
    "from tensorflow.keras.layers import Flatten\n",
    "from tensorflow.keras.layers import Conv2D \n",
    "from tensorflow.keras.layers import MaxPooling2D\n",
    "from keras.utils import to_categorical\n",
    "\n",
    "from sklearn.preprocessing import LabelEncoder\n",
    "from sklearn import metrics\n",
    "\n",
    "# Setting the path\n",
    "df_path = \"../data/1.0-bbri-dataframe.csv\"\n",
    "\n",
    "img_path = \"../data/processed/\"\n",
    "\n",
    "# Temporarily to my own folder\n",
    "img_path = \"G:/Meine Ablage/Colab Notebooks/data/processed/\"\n",
    "\n",
    "# Defining format\n",
    "format_x = 128\n",
    "format_y = 128\n",
    "format_z = 3\n",
    "\n",
    "print(os.getcwd())\n",
    "\n"
   ]
  },
  {
   "cell_type": "code",
   "execution_count": 5,
   "metadata": {},
   "outputs": [],
   "source": [
    "def build_data(df):\n",
    "  data = []\n",
    "\n",
    "  # Iterating through our dataframe\n",
    "  for index, row in df.iterrows():\n",
    "\n",
    "  # Reading image\n",
    "    dirname = row.Image_folder + \"/\"\n",
    "    filename = row.Image_name\n",
    "\n",
    "    to_read = img_path + dirname + filename\n",
    "    img = cv2.imread(to_read, cv2.IMREAD_COLOR)\n",
    "\n",
    "  # Appending image as element to our list\n",
    "    data = np.append(data, img)\n",
    "\n",
    "  return data\n",
    "\n",
    "def generate_data(threshold):\n",
    "  # Creating an empty data structure for our data\n",
    "  X_train = []\n",
    "  X_test = []\n",
    "  y_train = []\n",
    "  y_test = []\n",
    "\n",
    "  # Reading the dataframe\n",
    "  df = pd.read_csv(df_path, index_col = 0)\n",
    "\n",
    "  # Filter to temporarily reduce magnitude of data during evaluation period\n",
    "  df = df [(df.Plant == \"Sugar beet\") | (df.Plant == \"Strawberry\") ]\n",
    "\n",
    "# In addition we temporarily cut our dataset to 20% of its original size for speed reasons#\n",
    "#  n = round(df.shape[0] * 0.2)\n",
    "#  df = df.sample(n = n, random_state = 42)\n",
    "\n",
    "  # We add a column to our dataframe in order to represent a number for each plant\n",
    "  label_encoder = LabelEncoder()\n",
    "  df[\"Plant_num\"] = label_encoder.fit_transform(df.Plant)\n",
    "\n",
    "  # Determine threshold for train data\n",
    "  n = round(df.shape[0] * threshold)\n",
    "\n",
    "  # Split dataframe for training and testing purposes\n",
    "  df1 = df.sample(n = n, random_state = 42)\n",
    "  df2 = df.drop(df1.index)\n",
    "\n",
    "  # Build train and test data\n",
    "  X_train = build_data(df1)\n",
    "  X_test = build_data(df2)\n",
    "\n",
    "  # Reshaping list to target format\n",
    "  X_train = X_train.reshape(-1, format_x, format_y, format_z)\n",
    "  X_test = X_test.reshape(-1, format_x, format_y, format_z)\n",
    "\n",
    "  # Build target vector for train and test set\n",
    "  y_train = df1.Plant_num\n",
    "  y_test = df2.Plant_num\n",
    "\n",
    "  return X_train, X_test, y_train, y_test\n"
   ]
  },
  {
   "cell_type": "code",
   "execution_count": 6,
   "metadata": {},
   "outputs": [],
   "source": [
    "# Running this cell took around 4 min 16 sec for loading 2.028 images of shape 128 x 128 x 3 on May 22 2024\n",
    "X_train, X_test, y_train, y_test = generate_data(threshold = 0.8)"
   ]
  },
  {
   "cell_type": "code",
   "execution_count": 7,
   "metadata": {},
   "outputs": [],
   "source": [
    "# Transforming the data - Please ensure to execute this cell only once!\n",
    "X_train = X_train / 255\n",
    "X_test = X_test / 255\n",
    "\n",
    "y_train = to_categorical(y_train)\n",
    "y_test = to_categorical(y_test)\n"
   ]
  },
  {
   "cell_type": "code",
   "execution_count": 8,
   "metadata": {},
   "outputs": [],
   "source": [
    "# Building our first CNN model\n",
    "inputs = Input(shape = (128, 128, 3), name = \"Input\")\n",
    "first_layer  = Conv2D(filters = 32, #The layer will be composed of 32 convolution matrices.\n",
    "                      kernel_size = (5, 5), #the convolution kernel will be of dimension 5x5 (25 neurons per filter).\n",
    "                      padding = 'valid', #so that the kernel cannot exceed the edges of the image.   \n",
    "                      activation = 'relu')\n",
    "    \n",
    "second_layer = MaxPooling2D(pool_size = (2, 2))\n",
    "third_layer = Dropout(rate = 0.2)\n",
    "fourth_layer = Flatten()\n",
    "fifth_layer  = Dense(units = 128, activation = \"relu\")\n",
    "output_layer = Dense(units = 2, activation = \"softmax\")\n",
    "#output_layer = Dense(units = 10, activation = \"softmax\")\n",
    "\n",
    "x = first_layer(inputs)\n",
    "x = second_layer(x)\n",
    "x = third_layer(x)\n",
    "x = fourth_layer(x)\n",
    "x = fifth_layer(x)\n",
    "outputs = output_layer(x)\n",
    "\n",
    "model = Model(inputs = inputs, outputs = outputs)"
   ]
  },
  {
   "cell_type": "code",
   "execution_count": 9,
   "metadata": {},
   "outputs": [
    {
     "name": "stdout",
     "output_type": "stream",
     "text": [
      "Epoch 1/10\n",
      "\u001b[1m7/7\u001b[0m \u001b[32m━━━━━━━━━━━━━━━━━━━━\u001b[0m\u001b[37m\u001b[0m \u001b[1m6s\u001b[0m 677ms/step - accuracy: 0.7604 - loss: 4.3489 - val_accuracy: 0.2246 - val_loss: 1.3292\n",
      "Epoch 2/10\n",
      "\u001b[1m7/7\u001b[0m \u001b[32m━━━━━━━━━━━━━━━━━━━━\u001b[0m\u001b[37m\u001b[0m \u001b[1m4s\u001b[0m 609ms/step - accuracy: 0.4827 - loss: 0.9001 - val_accuracy: 0.7754 - val_loss: 0.3888\n",
      "Epoch 3/10\n",
      "\u001b[1m7/7\u001b[0m \u001b[32m━━━━━━━━━━━━━━━━━━━━\u001b[0m\u001b[37m\u001b[0m \u001b[1m4s\u001b[0m 591ms/step - accuracy: 0.7701 - loss: 0.3964 - val_accuracy: 0.7754 - val_loss: 0.3428\n",
      "Epoch 4/10\n",
      "\u001b[1m7/7\u001b[0m \u001b[32m━━━━━━━━━━━━━━━━━━━━\u001b[0m\u001b[37m\u001b[0m \u001b[1m4s\u001b[0m 608ms/step - accuracy: 0.7804 - loss: 0.3227 - val_accuracy: 0.7754 - val_loss: 0.2688\n",
      "Epoch 5/10\n",
      "\u001b[1m7/7\u001b[0m \u001b[32m━━━━━━━━━━━━━━━━━━━━\u001b[0m\u001b[37m\u001b[0m \u001b[1m4s\u001b[0m 609ms/step - accuracy: 0.7990 - loss: 0.2537 - val_accuracy: 0.9723 - val_loss: 0.2013\n",
      "Epoch 6/10\n",
      "\u001b[1m7/7\u001b[0m \u001b[32m━━━━━━━━━━━━━━━━━━━━\u001b[0m\u001b[37m\u001b[0m \u001b[1m4s\u001b[0m 596ms/step - accuracy: 0.9617 - loss: 0.1806 - val_accuracy: 0.9846 - val_loss: 0.1428\n",
      "Epoch 7/10\n",
      "\u001b[1m7/7\u001b[0m \u001b[32m━━━━━━━━━━━━━━━━━━━━\u001b[0m\u001b[37m\u001b[0m \u001b[1m4s\u001b[0m 622ms/step - accuracy: 0.9761 - loss: 0.1268 - val_accuracy: 0.9846 - val_loss: 0.0944\n",
      "Epoch 8/10\n",
      "\u001b[1m7/7\u001b[0m \u001b[32m━━━━━━━━━━━━━━━━━━━━\u001b[0m\u001b[37m\u001b[0m \u001b[1m4s\u001b[0m 601ms/step - accuracy: 0.9870 - loss: 0.0768 - val_accuracy: 0.9877 - val_loss: 0.0626\n",
      "Epoch 9/10\n",
      "\u001b[1m7/7\u001b[0m \u001b[32m━━━━━━━━━━━━━━━━━━━━\u001b[0m\u001b[37m\u001b[0m \u001b[1m4s\u001b[0m 593ms/step - accuracy: 0.9917 - loss: 0.0503 - val_accuracy: 0.9908 - val_loss: 0.0436\n",
      "Epoch 10/10\n",
      "\u001b[1m7/7\u001b[0m \u001b[32m━━━━━━━━━━━━━━━━━━━━\u001b[0m\u001b[37m\u001b[0m \u001b[1m4s\u001b[0m 588ms/step - accuracy: 0.9914 - loss: 0.0401 - val_accuracy: 0.9908 - val_loss: 0.0335\n"
     ]
    }
   ],
   "source": [
    "# Compiling the model\n",
    "model.compile(loss = \"categorical_crossentropy\",\n",
    "              optimizer = \"adam\",\n",
    "              metrics = [\"accuracy\"])\n",
    "\n",
    "training_history = model.fit(X_train, y_train, epochs = 10, batch_size = 200, validation_split = 0.2)"
   ]
  },
  {
   "cell_type": "code",
   "execution_count": 10,
   "metadata": {},
   "outputs": [
    {
     "data": {
      "image/png": "[encoded data removed]",
      "text/plain": [
       "<Figure size 640x480 with 1 Axes>"
      ]
     },
     "metadata": {},
     "output_type": "display_data"
    }
   ],
   "source": [
    "# Assessing the training history\n",
    "train_acc = training_history.history['accuracy']\n",
    "val_acc = training_history.history['val_accuracy']\n",
    "\n",
    "# Axis labels\n",
    "plt.xlabel('Epochs')\n",
    "plt.ylabel('Accuracy')\n",
    "\n",
    "# Precision curve on the training sample\n",
    "plt.plot(np.arange(1 , 11, 1),\n",
    "         training_history.history['accuracy'],\n",
    "         label = 'Training Accuracy',\n",
    "         color = 'blue')\n",
    "\n",
    "# Accuracy curve on the test sample\n",
    "plt.plot(np.arange(1 , 11, 1),\n",
    "         training_history.history['val_accuracy'], \n",
    "         label = 'Validation Accuracy',\n",
    "         color = 'red')\n",
    "\n",
    "plt.legend()\n",
    "plt.show()\n"
   ]
  },
  {
   "cell_type": "code",
   "execution_count": 11,
   "metadata": {},
   "outputs": [
    {
     "name": "stdout",
     "output_type": "stream",
     "text": [
      "\u001b[1m13/13\u001b[0m \u001b[32m━━━━━━━━━━━━━━━━━━━━\u001b[0m\u001b[37m\u001b[0m \u001b[1m0s\u001b[0m 28ms/step\n",
      "              precision    recall  f1-score   support\n",
      "\n",
      "           0       1.00      1.00      1.00       309\n",
      "           1       1.00      1.00      1.00        97\n",
      "\n",
      "    accuracy                           1.00       406\n",
      "   macro avg       1.00      1.00      1.00       406\n",
      "weighted avg       1.00      1.00      1.00       406\n",
      "\n"
     ]
    }
   ],
   "source": [
    "# Applying the model\n",
    "test_pred = model.predict(X_test)\n",
    "\n",
    "test_pred_class = test_pred.argmax(axis = 1)\n",
    "y_test_class = y_test.argmax(axis = 1)\n",
    "\n",
    "print(metrics.classification_report(y_test_class, test_pred_class))"
   ]
  },
  {
   "cell_type": "code",
   "execution_count": 12,
   "metadata": {},
   "outputs": [
    {
     "data": {
      "text/html": [
       "<div>\n",
       "<style scoped>\n",
       "    .dataframe tbody tr th:only-of-type {\n",
       "        vertical-align: middle;\n",
       "    }\n",
       "\n",
       "    .dataframe tbody tr th {\n",
       "        vertical-align: top;\n",
       "    }\n",
       "\n",
       "    .dataframe thead th {\n",
       "        text-align: right;\n",
       "    }\n",
       "</style>\n",
       "<table border=\"1\" class=\"dataframe\">\n",
       "  <thead>\n",
       "    <tr style=\"text-align: right;\">\n",
       "      <th>Predicted classification</th>\n",
       "      <th>0</th>\n",
       "      <th>1</th>\n",
       "    </tr>\n",
       "    <tr>\n",
       "      <th>Real classification</th>\n",
       "      <th></th>\n",
       "      <th></th>\n",
       "    </tr>\n",
       "  </thead>\n",
       "  <tbody>\n",
       "    <tr>\n",
       "      <th>0</th>\n",
       "      <td>309</td>\n",
       "      <td>0</td>\n",
       "    </tr>\n",
       "    <tr>\n",
       "      <th>1</th>\n",
       "      <td>0</td>\n",
       "      <td>97</td>\n",
       "    </tr>\n",
       "  </tbody>\n",
       "</table>\n",
       "</div>"
      ],
      "text/plain": [
       "Predicted classification    0   1\n",
       "Real classification              \n",
       "0                         309   0\n",
       "1                           0  97"
      ]
     },
     "execution_count": 12,
     "metadata": {},
     "output_type": "execute_result"
    }
   ],
   "source": [
    "# Printing the confusion matrix\n",
    "#cnf_matrix = metrics.confusion_matrix(y_test_class, test_pred_class)\n",
    "#print(cnf_matrix)\n",
    "\n",
    "pd.crosstab(test_pred_class, y_test_class, rownames=['Real classification'], colnames=['Predicted classification'])\n"
   ]
  }
 ],
 "metadata": {
  "kernelspec": {
   "display_name": "venv",
   "language": "python",
   "name": "python3"
  },
  "language_info": {
   "codemirror_mode": {
    "name": "ipython",
    "version": 3
   },
   "file_extension": ".py",
   "mimetype": "text/x-python",
   "name": "python",
   "nbconvert_exporter": "python",
   "pygments_lexer": "ipython3",
   "version": "3.12.3"
  }
 },
 "nbformat": 4,
 "nbformat_minor": 2
}
