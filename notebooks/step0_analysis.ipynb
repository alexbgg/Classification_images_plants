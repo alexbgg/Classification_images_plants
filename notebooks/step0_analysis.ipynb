{
 "cells": [
  {
   "cell_type": "code",
   "execution_count": 1,
   "metadata": {},
   "outputs": [],
   "source": [
    "import os\n",
    "from typing import Tuple\n",
    "\n",
    "import pandas as pd\n",
    "from PIL import Image"
   ]
  },
  {
   "cell_type": "code",
   "execution_count": 2,
   "metadata": {},
   "outputs": [],
   "source": [
    "# Helper functions\n",
    "def image_data(filepath: str) -> Tuple[int, int, str, str]:\n",
    "    \"\"\"This function returns all the information related to the file passed in input.\n",
    "\n",
    "    Args:\n",
    "        filepath (str): The image file path.\n",
    "\n",
    "    Returns:\n",
    "        Tuple[int, int, str, str]: width as number in pixel, height as number in pixel, format as string (JPEG, PNG, GIF, etc.), mode as string (RGB, RGBA, etc.).\n",
    "    \"\"\"\n",
    "    # open image\n",
    "    image = Image.open(filepath)\n",
    "    # Process the image here\n",
    "    width, height = image.size  # size of image\n",
    "    format = image.format  # JPEG, PNG, GIF\n",
    "    mode = image.mode  # RGB, RGBA or others\n",
    "    image.close()\n",
    "\n",
    "    return width, height, format, mode"
   ]
  },
  {
   "cell_type": "code",
   "execution_count": 3,
   "metadata": {},
   "outputs": [],
   "source": [
    "# Helper functions\n",
    "def populate_dataset(dataset: dict, directory: str):\n",
    "    \"\"\"This function populate the passed dataset.\n",
    "\n",
    "    Args:\n",
    "        dataset (dict): The dataset that will be populated.\n",
    "        directory (str): The directory where all the data is available.\n",
    "    \"\"\"\n",
    "    # Loop through all the files and folders in the directory\n",
    "    for folder_name in os.listdir(directory):\n",
    "        plant, healthy = folder_name.split(\"___\")\n",
    "\n",
    "        if os.path.isdir(os.path.join(directory, folder_name)):\n",
    "            for file_name in os.listdir(os.path.join(directory, folder_name)):\n",
    "                file_path = os.path.join(directory, folder_name, file_name)\n",
    "                width, height, format, mode = image_data(file_path)\n",
    "\n",
    "                dataset[\"Plant\"].append(plant)\n",
    "                if healthy == \"healthy\":\n",
    "                    dataset[\"Healthy\"].append(1)\n",
    "                else:\n",
    "                    dataset[\"Healthy\"].append(0)\n",
    "                dataset[\"Illness\"].append(healthy.replace(plant + \"_\", \"\"))\n",
    "                dataset[\"Image_name\"].append(file_name)\n",
    "                dataset[\"Image_width\"].append(width)\n",
    "                dataset[\"Image_height\"].append(height)\n",
    "                dataset[\"Image_format\"].append(format)\n",
    "                dataset[\"Image_mode\"].append(mode)"
   ]
  },
  {
   "cell_type": "code",
   "execution_count": 4,
   "metadata": {},
   "outputs": [
    {
     "ename": "ValueError",
     "evalue": "not enough values to unpack (expected 2, got 1)",
     "output_type": "error",
     "traceback": [
      "\u001b[0;31m---------------------------------------------------------------------------\u001b[0m",
      "\u001b[0;31mValueError\u001b[0m                                Traceback (most recent call last)",
      "Cell \u001b[0;32mIn[4], line 17\u001b[0m\n\u001b[1;32m      4\u001b[0m \u001b[38;5;66;03m# Create a DataFrame with the following columns in the dataset\u001b[39;00m\n\u001b[1;32m      5\u001b[0m \u001b[38;5;66;03m# Columns name: Plant, Healthy, Illness, Image_name, Image_width, Image_height, Image_format, Image_mode\u001b[39;00m\n\u001b[1;32m      6\u001b[0m data \u001b[38;5;241m=\u001b[39m {\n\u001b[1;32m      7\u001b[0m     \u001b[38;5;124m\"\u001b[39m\u001b[38;5;124mPlant\u001b[39m\u001b[38;5;124m\"\u001b[39m: [],\n\u001b[1;32m      8\u001b[0m     \u001b[38;5;124m\"\u001b[39m\u001b[38;5;124mHealthy\u001b[39m\u001b[38;5;124m\"\u001b[39m: [],\n\u001b[0;32m   (...)\u001b[0m\n\u001b[1;32m     14\u001b[0m     \u001b[38;5;124m\"\u001b[39m\u001b[38;5;124mImage_mode\u001b[39m\u001b[38;5;124m\"\u001b[39m: [],\n\u001b[1;32m     15\u001b[0m }\n\u001b[0;32m---> 17\u001b[0m \u001b[43mpopulate_dataset\u001b[49m\u001b[43m(\u001b[49m\u001b[43mdata\u001b[49m\u001b[43m,\u001b[49m\u001b[43m \u001b[49m\u001b[43mdataset_dir\u001b[49m\u001b[43m)\u001b[49m\n\u001b[1;32m     19\u001b[0m \u001b[38;5;66;03m# Create a sample DataFrame\u001b[39;00m\n\u001b[1;32m     20\u001b[0m df \u001b[38;5;241m=\u001b[39m pd\u001b[38;5;241m.\u001b[39mDataFrame(data)\n",
      "Cell \u001b[0;32mIn[3], line 11\u001b[0m, in \u001b[0;36mpopulate_dataset\u001b[0;34m(dataset, directory)\u001b[0m\n\u001b[1;32m      9\u001b[0m \u001b[38;5;66;03m# Loop through all the files and folders in the directory\u001b[39;00m\n\u001b[1;32m     10\u001b[0m \u001b[38;5;28;01mfor\u001b[39;00m folder_name \u001b[38;5;129;01min\u001b[39;00m os\u001b[38;5;241m.\u001b[39mlistdir(directory):\n\u001b[0;32m---> 11\u001b[0m     plant, healthy \u001b[38;5;241m=\u001b[39m folder_name\u001b[38;5;241m.\u001b[39msplit(\u001b[38;5;124m\"\u001b[39m\u001b[38;5;124m___\u001b[39m\u001b[38;5;124m\"\u001b[39m)\n\u001b[1;32m     13\u001b[0m     \u001b[38;5;28;01mif\u001b[39;00m os\u001b[38;5;241m.\u001b[39mpath\u001b[38;5;241m.\u001b[39misdir(os\u001b[38;5;241m.\u001b[39mpath\u001b[38;5;241m.\u001b[39mjoin(directory, folder_name)):\n\u001b[1;32m     14\u001b[0m         \u001b[38;5;28;01mfor\u001b[39;00m file_name \u001b[38;5;129;01min\u001b[39;00m os\u001b[38;5;241m.\u001b[39mlistdir(os\u001b[38;5;241m.\u001b[39mpath\u001b[38;5;241m.\u001b[39mjoin(directory, folder_name)):\n",
      "\u001b[0;31mValueError\u001b[0m: not enough values to unpack (expected 2, got 1)"
     ]
    }
   ],
   "source": [
    "# Assuming 'train' is the main directory containing all the categories\n",
    "dataset_dir = \"../data/New_Plant_Diseases_Dataset\"\n",
    "\n",
    "# Create a DataFrame with the following columns in the dataset\n",
    "# Columns name: Plant, Healthy, Illness, Image_name, Image_width, Image_height, Image_format, Image_mode\n",
    "data = {\n",
    "    \"Plant\": [],\n",
    "    \"Healthy\": [],\n",
    "    \"Illness\": [],\n",
    "    \"Image_name\": [],\n",
    "    \"Image_width\": [],\n",
    "    \"Image_height\": [],\n",
    "    \"Image_format\": [],\n",
    "    \"Image_mode\": [],\n",
    "}\n",
    "\n",
    "populate_dataset(data, dataset_dir)\n",
    "\n",
    "# Create a sample DataFrame\n",
    "df = pd.DataFrame(data)\n",
    "\n",
    "# Export to CSV\n",
    "df.to_csv(\"../data/export_train_dataframe.csv\")"
   ]
  }
 ],
 "metadata": {
  "kernelspec": {
   "display_name": ".venv",
   "language": "python",
   "name": "python3"
  },
  "language_info": {
   "codemirror_mode": {
    "name": "ipython",
    "version": 3
   },
   "file_extension": ".py",
   "mimetype": "text/x-python",
   "name": "python",
   "nbconvert_exporter": "python",
   "pygments_lexer": "ipython3",
   "version": "3.11.2"
  }
 },
 "nbformat": 4,
 "nbformat_minor": 2
}
