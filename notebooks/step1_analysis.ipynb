{
 "cells": [
  {
   "cell_type": "code",
   "execution_count": 6,
   "metadata": {},
   "outputs": [],
   "source": [
    "import os\n",
    "from typing import Tuple\n",
    "\n",
    "import pandas as pd\n",
    "from PIL import Image"
   ]
  },
  {
   "cell_type": "code",
   "execution_count": 7,
   "metadata": {},
   "outputs": [],
   "source": [
    "# something\n",
    "def image_data(filepath: str, filename: str) -> Tuple[str, int, int, str, str]:\n",
    "    \"\"\"_summary_\n",
    "\n",
    "    Args:\n",
    "        filepath (str): _description_\n",
    "        filename (str): _description_\n",
    "\n",
    "    Returns:\n",
    "        Tuple[str, int, int, str, str]: _description_\n",
    "    \"\"\"\n",
    "    # open image\n",
    "    image = Image.open(filepath)\n",
    "    # Process the image here\n",
    "    width, height = image.size  # size of image\n",
    "    format = image.format  # JPEG, PNG, GIF\n",
    "    mode = image.mode  # RGB, RGBA or others\n",
    "    image.close()\n",
    "\n",
    "    return filename, width, height, format, mode\n"
   ]
  },
  {
   "cell_type": "code",
   "execution_count": 8,
   "metadata": {},
   "outputs": [],
   "source": [
    "def populate_dataset(dataset: dict, directory: str):\n",
    "    # Loop through all the files and folders in the directory\n",
    "    for folder_name in os.listdir(directory):\n",
    "        plant, healthy = folder_name.split(\"___\")\n",
    "\n",
    "        if os.path.isdir(os.path.join(directory, folder_name)):\n",
    "            for file_name in os.listdir(os.path.join(directory, folder_name)):\n",
    "                file_path = os.path.join(directory, folder_name, file_name)\n",
    "                name, width, height, format, mode = image_data(file_path, file_name)\n",
    "\n",
    "                dataset[\"Plant\"].append(plant)\n",
    "                if healthy == \"healthy\":\n",
    "                    dataset[\"Healthy\"].append(1)\n",
    "                else:\n",
    "                    dataset[\"Healthy\"].append(0)\n",
    "                dataset[\"Illness\"].append(healthy)\n",
    "                dataset[\"Image_name\"].append(name)\n",
    "                dataset[\"Image_width\"].append(width)\n",
    "                dataset[\"Image_height\"].append(height)\n",
    "                dataset[\"Image_format\"].append(format)\n",
    "                dataset[\"Image_mode\"].append(mode)\n"
   ]
  },
  {
   "cell_type": "code",
   "execution_count": 9,
   "metadata": {},
   "outputs": [],
   "source": [
    "# Assuming 'train' is the main directory containing all the categories\n",
    "dataset_dir = \"../data/New_Plant_Diseases_Dataset/train\"\n",
    "\n",
    "# Create a DataFrame with the following columns in the dataset\n",
    "# Columns name: Plant, Healthy, Illness, Image_name, Image_width, Image_height, Image_format, Image_mode\n",
    "data = {\n",
    "    \"Plant\": [],\n",
    "    \"Healthy\": [],\n",
    "    \"Illness\": [],\n",
    "    \"Image_name\": [],\n",
    "    \"Image_width\": [],\n",
    "    \"Image_height\": [],\n",
    "    \"Image_format\": [],\n",
    "    \"Image_mode\": [],\n",
    "}\n",
    "\n",
    "populate_dataset(data, dataset_dir)\n",
    "\n",
    "# Create a sample DataFrame\n",
    "df = pd.DataFrame(data)\n",
    "\n",
    "# Export to CSV\n",
    "df.to_csv(\"../data/export_dataframe.csv\")\n"
   ]
  }
 ],
 "metadata": {
  "kernelspec": {
   "display_name": ".venv",
   "language": "python",
   "name": "python3"
  },
  "language_info": {
   "codemirror_mode": {
    "name": "ipython",
    "version": 3
   },
   "file_extension": ".py",
   "mimetype": "text/x-python",
   "name": "python",
   "nbconvert_exporter": "python",
   "pygments_lexer": "ipython3",
   "version": "3.11.2"
  }
 },
 "nbformat": 4,
 "nbformat_minor": 2
}
