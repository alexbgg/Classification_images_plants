{
 "cells": [
  {
   "cell_type": "code",
   "execution_count": 2,
   "metadata": {},
   "outputs": [],
   "source": [
    "import os\n",
    "from typing import Tuple\n",
    "\n",
    "import pandas as pd\n",
    "from PIL import Image"
   ]
  },
  {
   "cell_type": "code",
   "execution_count": 3,
   "metadata": {},
   "outputs": [],
   "source": [
    "# something\n",
    "def image_data(filepath: str, filename: str) -> Tuple[str, int, int, str, str]:\n",
    "    \"\"\"_summary_\n",
    "\n",
    "    Args:\n",
    "        filepath (str): _description_\n",
    "        filename (str): _description_\n",
    "\n",
    "    Returns:\n",
    "        Tuple[str, int, int, str, str]: _description_\n",
    "    \"\"\"\n",
    "    # open image\n",
    "    image = Image.open(filepath)\n",
    "    # Process the image here\n",
    "    width, height = image.size  # size of image\n",
    "    format = image.format  # JPEG, PNG, GIF\n",
    "    mode = image.mode  # RGB, RGBA or others\n",
    "    image.close()\n",
    "\n",
    "    return filename, width, height, format, mode\n"
   ]
  },
  {
   "cell_type": "code",
   "execution_count": 4,
   "metadata": {},
   "outputs": [],
   "source": [
    "def populate_dataset(dataset: dict, directory: str):\n",
    "    # Loop through all the files and folders in the directory\n",
    "    for folder_name in os.listdir(directory):\n",
    "        plant, healthy = folder_name.split(\"___\")\n",
    "\n",
    "        if os.path.isdir(os.path.join(directory, folder_name)):\n",
    "            for file_name in os.listdir(os.path.join(directory, folder_name)):\n",
    "                file_path = os.path.join(directory, folder_name, file_name)\n",
    "                name, width, height, format, mode = image_data(file_path, file_name)\n",
    "\n",
    "                dataset[\"Plant\"].append(plant)\n",
    "                if healthy == \"healthy\":\n",
    "                    dataset[\"Healthy\"].append(1)\n",
    "                else:\n",
    "                    dataset[\"Healthy\"].append(0)\n",
    "                dataset[\"Illness\"].append(healthy)\n",
    "                dataset[\"Image_name\"].append(name)\n",
    "                dataset[\"Image_width\"].append(width)\n",
    "                dataset[\"Image_height\"].append(height)\n",
    "                dataset[\"Image_format\"].append(format)\n",
    "                dataset[\"Image_mode\"].append(mode)\n"
   ]
  },
  {
   "cell_type": "code",
   "execution_count": 5,
   "metadata": {},
   "outputs": [
    {
     "ename": "FileNotFoundError",
     "evalue": "[Errno 2] No such file or directory: 'data/New_Plant_Diseases_Dataset/train'",
     "output_type": "error",
     "traceback": [
      "\u001b[0;31m---------------------------------------------------------------------------\u001b[0m",
      "\u001b[0;31mFileNotFoundError\u001b[0m                         Traceback (most recent call last)",
      "Cell \u001b[0;32mIn[5], line 17\u001b[0m\n\u001b[1;32m      4\u001b[0m \u001b[38;5;66;03m# Create a DataFrame with the following columns in the dataset\u001b[39;00m\n\u001b[1;32m      5\u001b[0m \u001b[38;5;66;03m# Columns name: Plant, Healthy, Illness, Image_name, Image_width, Image_height, Image_format, Image_mode\u001b[39;00m\n\u001b[1;32m      6\u001b[0m data \u001b[38;5;241m=\u001b[39m {\n\u001b[1;32m      7\u001b[0m     \u001b[38;5;124m\"\u001b[39m\u001b[38;5;124mPlant\u001b[39m\u001b[38;5;124m\"\u001b[39m: [],\n\u001b[1;32m      8\u001b[0m     \u001b[38;5;124m\"\u001b[39m\u001b[38;5;124mHealthy\u001b[39m\u001b[38;5;124m\"\u001b[39m: [],\n\u001b[0;32m   (...)\u001b[0m\n\u001b[1;32m     14\u001b[0m     \u001b[38;5;124m\"\u001b[39m\u001b[38;5;124mImage_mode\u001b[39m\u001b[38;5;124m\"\u001b[39m: [],\n\u001b[1;32m     15\u001b[0m }\n\u001b[0;32m---> 17\u001b[0m \u001b[43mpopulate_dataset\u001b[49m\u001b[43m(\u001b[49m\u001b[43mdata\u001b[49m\u001b[43m,\u001b[49m\u001b[43m \u001b[49m\u001b[43mdataset_dir\u001b[49m\u001b[43m)\u001b[49m\n\u001b[1;32m     19\u001b[0m \u001b[38;5;66;03m# Create a sample DataFrame\u001b[39;00m\n\u001b[1;32m     20\u001b[0m df \u001b[38;5;241m=\u001b[39m pd\u001b[38;5;241m.\u001b[39mDataFrame(data)\n",
      "Cell \u001b[0;32mIn[4], line 3\u001b[0m, in \u001b[0;36mpopulate_dataset\u001b[0;34m(dataset, directory)\u001b[0m\n\u001b[1;32m      1\u001b[0m \u001b[38;5;28;01mdef\u001b[39;00m \u001b[38;5;21mpopulate_dataset\u001b[39m(dataset: \u001b[38;5;28mdict\u001b[39m, directory: \u001b[38;5;28mstr\u001b[39m):\n\u001b[1;32m      2\u001b[0m     \u001b[38;5;66;03m# Loop through all the files and folders in the directory\u001b[39;00m\n\u001b[0;32m----> 3\u001b[0m     \u001b[38;5;28;01mfor\u001b[39;00m folder_name \u001b[38;5;129;01min\u001b[39;00m \u001b[43mos\u001b[49m\u001b[38;5;241;43m.\u001b[39;49m\u001b[43mlistdir\u001b[49m\u001b[43m(\u001b[49m\u001b[43mdirectory\u001b[49m\u001b[43m)\u001b[49m:\n\u001b[1;32m      4\u001b[0m         plant, healthy \u001b[38;5;241m=\u001b[39m folder_name\u001b[38;5;241m.\u001b[39msplit(\u001b[38;5;124m\"\u001b[39m\u001b[38;5;124m___\u001b[39m\u001b[38;5;124m\"\u001b[39m)\n\u001b[1;32m      6\u001b[0m         \u001b[38;5;28;01mif\u001b[39;00m os\u001b[38;5;241m.\u001b[39mpath\u001b[38;5;241m.\u001b[39misdir(os\u001b[38;5;241m.\u001b[39mpath\u001b[38;5;241m.\u001b[39mjoin(directory, folder_name)):\n",
      "\u001b[0;31mFileNotFoundError\u001b[0m: [Errno 2] No such file or directory: 'data/New_Plant_Diseases_Dataset/train'"
     ]
    }
   ],
   "source": [
    "# Assuming 'train' is the main directory containing all the categories\n",
    "dataset_dir = \"../data/New_Plant_Diseases_Dataset/train\"\n",
    "\n",
    "# Create a DataFrame with the following columns in the dataset\n",
    "# Columns name: Plant, Healthy, Illness, Image_name, Image_width, Image_height, Image_format, Image_mode\n",
    "data = {\n",
    "    \"Plant\": [],\n",
    "    \"Healthy\": [],\n",
    "    \"Illness\": [],\n",
    "    \"Image_name\": [],\n",
    "    \"Image_width\": [],\n",
    "    \"Image_height\": [],\n",
    "    \"Image_format\": [],\n",
    "    \"Image_mode\": [],\n",
    "}\n",
    "\n",
    "populate_dataset(data, dataset_dir)\n",
    "\n",
    "# Create a sample DataFrame\n",
    "df = pd.DataFrame(data)\n",
    "\n",
    "# Export to CSV\n",
    "df.to_csv(\"../data/export_dataframe.csv\")\n"
   ]
  }
 ],
 "metadata": {
  "kernelspec": {
   "display_name": ".venv",
   "language": "python",
   "name": "python3"
  },
  "language_info": {
   "codemirror_mode": {
    "name": "ipython",
    "version": 3
   },
   "file_extension": ".py",
   "mimetype": "text/x-python",
   "name": "python",
   "nbconvert_exporter": "python",
   "pygments_lexer": "ipython3",
   "version": "3.11.2"
  }
 },
 "nbformat": 4,
 "nbformat_minor": 2
}
