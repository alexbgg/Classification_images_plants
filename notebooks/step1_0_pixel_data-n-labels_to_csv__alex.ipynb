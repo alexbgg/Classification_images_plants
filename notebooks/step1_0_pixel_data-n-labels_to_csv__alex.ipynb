{
 "cells": [
  {
   "cell_type": "code",
   "execution_count": 1,
   "metadata": {},
   "outputs": [],
   "source": [
    "import pandas as pd\n",
    "from sys import argv, stderr, exit\n",
    "import os\n",
    "from typing import Tuple\n",
    "import imageio.v3 as iio\n",
    "from collections import defaultdict"
   ]
  },
  {
   "cell_type": "code",
   "execution_count": 2,
   "metadata": {},
   "outputs": [],
   "source": [
    "# Assuming 'raw' is the main directory containing all the class-representing folders with respective files\n",
    "#TODO: replace the arguments with your full path directory names - TODO: for Unix systems, erase the first argument\n",
    "dataset_dir = os.path.join(\"C:\",os.sep,\"Users\",\"jeos\",\"Prj\",\"WB\",\"DST\",\"DS\",\"data\",\"raw\") \n",
    "\n",
    "# path to the directory containing the extracted .csv file of the dataset\n",
    "#TODO: replace the arguments with your full path directory names\n",
    "dataset_csv_dir = os.path.join(\"C:\",os.sep,\"Users\",\"jeos\",\"Prj\",\"WB\",\"DST\",\"DS\",\"data\") "
   ]
  },
  {
   "cell_type": "code",
   "execution_count": 9,
   "metadata": {},
   "outputs": [],
   "source": [
    "\"\"\"SUBOPTIMAL (THIS) WAY: creates the .csv dataset of raw images to be loaded entirely into the (RA-)memory and used for training of models\n",
    "OPTIMAL WAY for (C)NN: using 'tensorflow dataset' format with batch-wise loading of image files & labels/metadata from storage into (RA-)memory\"\"\"\n",
    "# Helper function\n",
    "def populate_dataset(dataset: dict, directory: str):\n",
    "    \"\"\"This function populates the passed dataset.\n",
    "\n",
    "    Args:\n",
    "        dataset (dict): The dataset that will be populated.\n",
    "        directory (str): The directory where all the data is available.\n",
    "    \"\"\"\n",
    "    # Loop through all the files and folders in the directory\n",
    "    for folder_name in os.listdir(directory):\n",
    "        if os.path.isdir(os.path.join(directory, folder_name)):\n",
    "            for file_name in os.listdir(os.path.join(directory, folder_name)):\n",
    "                file_path = os.path.join(directory, folder_name, file_name)\n",
    "                image=iio.imread(file_path)\n",
    "                image_n_row = image.shape[0]\n",
    "                image_n_col = image.shape[1]\n",
    "                image_n_chn = image.shape[2]\n",
    "                # retrieving the label of the image\n",
    "                dataset[\"label\"].append(folder_name)\n",
    "                # retrieving pixel intensities (image features) pro channel\n",
    "                for chn in range(image_n_chn):\n",
    "                    for px_row in range(image_n_row):\n",
    "                        for px_col in range(image_n_col):\n",
    "                            dataset[f\"chn{chn}_px[{px_row},{px_col}]\"].append(image[px_row,px_col,chn])\n",
    "\n",
    "data = defaultdict(list)\n",
    "\n",
    "populate_dataset(data, dataset_dir)\n",
    "\n",
    "# Create a sample DataFrame\n",
    "df = pd.DataFrame(data)\n",
    "\n",
    "# Export to CSV\n",
    "df.to_csv(os.path.join(dataset_csv_dir,\"dataset_raw.csv\"), index=False)"
   ]
  },
  {
   "cell_type": "code",
   "execution_count": null,
   "metadata": {},
   "outputs": [],
   "source": [
    "df = pd.read_csv(os.path.join(dataset_csv_dir,\"dataset_raw.csv\"))\n",
    "display(df.shape)"
   ]
  }
 ],
 "metadata": {
  "kernelspec": {
   "display_name": ".venv",
   "language": "python",
   "name": "python3"
  },
  "language_info": {
   "codemirror_mode": {
    "name": "ipython",
    "version": 3
   },
   "file_extension": ".py",
   "mimetype": "text/x-python",
   "name": "python",
   "nbconvert_exporter": "python",
   "pygments_lexer": "ipython3",
   "version": "3.10.14"
  }
 },
 "nbformat": 4,
 "nbformat_minor": 2
}
